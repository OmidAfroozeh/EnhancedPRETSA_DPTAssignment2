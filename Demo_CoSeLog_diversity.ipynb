{
 "cells": [
  {
   "cell_type": "code",
   "execution_count": 1,
   "id": "initial_id",
   "metadata": {
    "collapsed": true,
    "ExecuteTime": {
     "end_time": "2023-10-16T21:09:19.444599Z",
     "start_time": "2023-10-16T21:09:18.697165Z"
    }
   },
   "outputs": [],
   "source": [
    "import pandas as pd\n",
    "import pretsa as sanatizeAlg\n",
    "import countVariantsInLog as variantHelper"
   ]
  },
  {
   "cell_type": "markdown",
   "source": [
    "# Loading and preprocessing the CoSeLog event log\n",
    "pm4py library is used to load the event logs from the .xes file format. "
   ],
   "metadata": {
    "collapsed": false
   },
   "id": "644ae6b87cc991e1"
  },
  {
   "cell_type": "code",
   "execution_count": 4,
   "outputs": [
    {
     "name": "stdout",
     "output_type": "stream",
     "text": [
      "Finished loading eventlog\n"
     ]
    },
    {
     "data": {
      "text/plain": "     org:group concept:instance org:resource  \\\n0      Group 1       task-42933   Resource21   \n1      Group 4       task-42935   Resource10   \n2      Group 1       task-42957   Resource21   \n3      Group 4       task-47958   Resource21   \n4        EMPTY       task-43021   Resource30   \n...        ...              ...          ...   \n8572   Group 4       task-43560   Resource06   \n8573   Group 3       task-43562   Resource06   \n8574   Group 2       task-43563   Resource06   \n8575   Group 1       task-43561   Resource06   \n8576   Group 1       task-43564   Resource06   \n\n                                        Activity  \\\n0                        Confirmation of receipt   \n1              T02 Check confirmation of receipt   \n2             T03 Adjust confirmation of receipt   \n3              T02 Check confirmation of receipt   \n4                        Confirmation of receipt   \n...                                          ...   \n8572           T02 Check confirmation of receipt   \n8573       T04 Determine confirmation of receipt   \n8574  T05 Print and send confirmation of receipt   \n8575      T06 Determine necessity of stop advice   \n8576  T10 Determine necessity to stop indication   \n\n                    Complete_Timestamp lifecycle:transition  \\\n0     2011-10-11 11:45:40.276000+00:00             complete   \n1     2011-10-12 06:26:25.398000+00:00             complete   \n2     2011-11-24 14:36:51.302000+00:00             complete   \n3     2011-11-24 14:37:16.553000+00:00             complete   \n4     2011-10-18 11:46:39.679000+00:00             complete   \n...                                ...                  ...   \n8572  2011-10-18 07:04:48.732000+00:00             complete   \n8573  2011-10-18 07:05:12.359000+00:00             complete   \n8574  2011-10-18 07:05:30.196000+00:00             complete   \n8575  2011-10-18 07:06:01.468000+00:00             complete   \n8576  2011-10-18 07:06:20.547000+00:00             complete   \n\n                        case:startdate case:responsible  \\\n0     2011-10-11 11:42:22.688000+00:00       Resource21   \n1     2011-10-11 11:42:22.688000+00:00       Resource21   \n2     2011-10-11 11:42:22.688000+00:00       Resource21   \n3     2011-10-11 11:42:22.688000+00:00       Resource21   \n4     2011-10-10 23:06:40.020000+00:00       Resource04   \n...                                ...              ...   \n8572  2011-10-05 23:06:40.020000+00:00       Resource06   \n8573  2011-10-05 23:06:40.020000+00:00       Resource06   \n8574  2011-10-05 23:06:40.020000+00:00       Resource06   \n8575  2011-10-05 23:06:40.020000+00:00       Resource06   \n8576  2011-10-05 23:06:40.020000+00:00       Resource06   \n\n                  case:enddate_planned case:department case:group     Case_ID  \\\n0     2011-12-06 12:41:31.788000+00:00         General    Group 2  case-10011   \n1     2011-12-06 12:41:31.788000+00:00         General    Group 2  case-10011   \n2     2011-12-06 12:41:31.788000+00:00         General    Group 2  case-10011   \n3     2011-12-06 12:41:31.788000+00:00         General    Group 2  case-10011   \n4     2011-12-06 00:06:40.010000+00:00         General    Group 5  case-10017   \n...                                ...             ...        ...         ...   \n8572  2011-12-01 00:06:40.010000+00:00         General    Group 5   case-9997   \n8573  2011-12-01 00:06:40.010000+00:00         General    Group 5   case-9997   \n8574  2011-12-01 00:06:40.010000+00:00         General    Group 5   case-9997   \n8575  2011-12-01 00:06:40.010000+00:00         General    Group 5   case-9997   \n8576  2011-12-01 00:06:40.010000+00:00         General    Group 5   case-9997   \n\n                         case:deadline case:channel  \\\n0     2011-12-06 12:41:31.788000+00:00     Internet   \n1     2011-12-06 12:41:31.788000+00:00     Internet   \n2     2011-12-06 12:41:31.788000+00:00     Internet   \n3     2011-12-06 12:41:31.788000+00:00     Internet   \n4            2011-12-06 00:06:40+00:00     Internet   \n...                                ...          ...   \n8572         2011-12-01 00:06:40+00:00     Internet   \n8573         2011-12-01 00:06:40+00:00     Internet   \n8574         2011-12-01 00:06:40+00:00     Internet   \n8575         2011-12-01 00:06:40+00:00     Internet   \n8576         2011-12-01 00:06:40+00:00     Internet   \n\n                          case:enddate  \n0                                  NaN  \n1                                  NaN  \n2                                  NaN  \n3                                  NaN  \n4     2011-10-18 11:56:55.943000+00:00  \n...                                ...  \n8572  2011-10-20 12:19:44.448000+00:00  \n8573  2011-10-20 12:19:44.448000+00:00  \n8574  2011-10-20 12:19:44.448000+00:00  \n8575  2011-10-20 12:19:44.448000+00:00  \n8576  2011-10-20 12:19:44.448000+00:00  \n\n[8577 rows x 15 columns]",
      "text/html": "<div>\n<style scoped>\n    .dataframe tbody tr th:only-of-type {\n        vertical-align: middle;\n    }\n\n    .dataframe tbody tr th {\n        vertical-align: top;\n    }\n\n    .dataframe thead th {\n        text-align: right;\n    }\n</style>\n<table border=\"1\" class=\"dataframe\">\n  <thead>\n    <tr style=\"text-align: right;\">\n      <th></th>\n      <th>org:group</th>\n      <th>concept:instance</th>\n      <th>org:resource</th>\n      <th>Activity</th>\n      <th>Complete_Timestamp</th>\n      <th>lifecycle:transition</th>\n      <th>case:startdate</th>\n      <th>case:responsible</th>\n      <th>case:enddate_planned</th>\n      <th>case:department</th>\n      <th>case:group</th>\n      <th>Case_ID</th>\n      <th>case:deadline</th>\n      <th>case:channel</th>\n      <th>case:enddate</th>\n    </tr>\n  </thead>\n  <tbody>\n    <tr>\n      <th>0</th>\n      <td>Group 1</td>\n      <td>task-42933</td>\n      <td>Resource21</td>\n      <td>Confirmation of receipt</td>\n      <td>2011-10-11 11:45:40.276000+00:00</td>\n      <td>complete</td>\n      <td>2011-10-11 11:42:22.688000+00:00</td>\n      <td>Resource21</td>\n      <td>2011-12-06 12:41:31.788000+00:00</td>\n      <td>General</td>\n      <td>Group 2</td>\n      <td>case-10011</td>\n      <td>2011-12-06 12:41:31.788000+00:00</td>\n      <td>Internet</td>\n      <td>NaN</td>\n    </tr>\n    <tr>\n      <th>1</th>\n      <td>Group 4</td>\n      <td>task-42935</td>\n      <td>Resource10</td>\n      <td>T02 Check confirmation of receipt</td>\n      <td>2011-10-12 06:26:25.398000+00:00</td>\n      <td>complete</td>\n      <td>2011-10-11 11:42:22.688000+00:00</td>\n      <td>Resource21</td>\n      <td>2011-12-06 12:41:31.788000+00:00</td>\n      <td>General</td>\n      <td>Group 2</td>\n      <td>case-10011</td>\n      <td>2011-12-06 12:41:31.788000+00:00</td>\n      <td>Internet</td>\n      <td>NaN</td>\n    </tr>\n    <tr>\n      <th>2</th>\n      <td>Group 1</td>\n      <td>task-42957</td>\n      <td>Resource21</td>\n      <td>T03 Adjust confirmation of receipt</td>\n      <td>2011-11-24 14:36:51.302000+00:00</td>\n      <td>complete</td>\n      <td>2011-10-11 11:42:22.688000+00:00</td>\n      <td>Resource21</td>\n      <td>2011-12-06 12:41:31.788000+00:00</td>\n      <td>General</td>\n      <td>Group 2</td>\n      <td>case-10011</td>\n      <td>2011-12-06 12:41:31.788000+00:00</td>\n      <td>Internet</td>\n      <td>NaN</td>\n    </tr>\n    <tr>\n      <th>3</th>\n      <td>Group 4</td>\n      <td>task-47958</td>\n      <td>Resource21</td>\n      <td>T02 Check confirmation of receipt</td>\n      <td>2011-11-24 14:37:16.553000+00:00</td>\n      <td>complete</td>\n      <td>2011-10-11 11:42:22.688000+00:00</td>\n      <td>Resource21</td>\n      <td>2011-12-06 12:41:31.788000+00:00</td>\n      <td>General</td>\n      <td>Group 2</td>\n      <td>case-10011</td>\n      <td>2011-12-06 12:41:31.788000+00:00</td>\n      <td>Internet</td>\n      <td>NaN</td>\n    </tr>\n    <tr>\n      <th>4</th>\n      <td>EMPTY</td>\n      <td>task-43021</td>\n      <td>Resource30</td>\n      <td>Confirmation of receipt</td>\n      <td>2011-10-18 11:46:39.679000+00:00</td>\n      <td>complete</td>\n      <td>2011-10-10 23:06:40.020000+00:00</td>\n      <td>Resource04</td>\n      <td>2011-12-06 00:06:40.010000+00:00</td>\n      <td>General</td>\n      <td>Group 5</td>\n      <td>case-10017</td>\n      <td>2011-12-06 00:06:40+00:00</td>\n      <td>Internet</td>\n      <td>2011-10-18 11:56:55.943000+00:00</td>\n    </tr>\n    <tr>\n      <th>...</th>\n      <td>...</td>\n      <td>...</td>\n      <td>...</td>\n      <td>...</td>\n      <td>...</td>\n      <td>...</td>\n      <td>...</td>\n      <td>...</td>\n      <td>...</td>\n      <td>...</td>\n      <td>...</td>\n      <td>...</td>\n      <td>...</td>\n      <td>...</td>\n      <td>...</td>\n    </tr>\n    <tr>\n      <th>8572</th>\n      <td>Group 4</td>\n      <td>task-43560</td>\n      <td>Resource06</td>\n      <td>T02 Check confirmation of receipt</td>\n      <td>2011-10-18 07:04:48.732000+00:00</td>\n      <td>complete</td>\n      <td>2011-10-05 23:06:40.020000+00:00</td>\n      <td>Resource06</td>\n      <td>2011-12-01 00:06:40.010000+00:00</td>\n      <td>General</td>\n      <td>Group 5</td>\n      <td>case-9997</td>\n      <td>2011-12-01 00:06:40+00:00</td>\n      <td>Internet</td>\n      <td>2011-10-20 12:19:44.448000+00:00</td>\n    </tr>\n    <tr>\n      <th>8573</th>\n      <td>Group 3</td>\n      <td>task-43562</td>\n      <td>Resource06</td>\n      <td>T04 Determine confirmation of receipt</td>\n      <td>2011-10-18 07:05:12.359000+00:00</td>\n      <td>complete</td>\n      <td>2011-10-05 23:06:40.020000+00:00</td>\n      <td>Resource06</td>\n      <td>2011-12-01 00:06:40.010000+00:00</td>\n      <td>General</td>\n      <td>Group 5</td>\n      <td>case-9997</td>\n      <td>2011-12-01 00:06:40+00:00</td>\n      <td>Internet</td>\n      <td>2011-10-20 12:19:44.448000+00:00</td>\n    </tr>\n    <tr>\n      <th>8574</th>\n      <td>Group 2</td>\n      <td>task-43563</td>\n      <td>Resource06</td>\n      <td>T05 Print and send confirmation of receipt</td>\n      <td>2011-10-18 07:05:30.196000+00:00</td>\n      <td>complete</td>\n      <td>2011-10-05 23:06:40.020000+00:00</td>\n      <td>Resource06</td>\n      <td>2011-12-01 00:06:40.010000+00:00</td>\n      <td>General</td>\n      <td>Group 5</td>\n      <td>case-9997</td>\n      <td>2011-12-01 00:06:40+00:00</td>\n      <td>Internet</td>\n      <td>2011-10-20 12:19:44.448000+00:00</td>\n    </tr>\n    <tr>\n      <th>8575</th>\n      <td>Group 1</td>\n      <td>task-43561</td>\n      <td>Resource06</td>\n      <td>T06 Determine necessity of stop advice</td>\n      <td>2011-10-18 07:06:01.468000+00:00</td>\n      <td>complete</td>\n      <td>2011-10-05 23:06:40.020000+00:00</td>\n      <td>Resource06</td>\n      <td>2011-12-01 00:06:40.010000+00:00</td>\n      <td>General</td>\n      <td>Group 5</td>\n      <td>case-9997</td>\n      <td>2011-12-01 00:06:40+00:00</td>\n      <td>Internet</td>\n      <td>2011-10-20 12:19:44.448000+00:00</td>\n    </tr>\n    <tr>\n      <th>8576</th>\n      <td>Group 1</td>\n      <td>task-43564</td>\n      <td>Resource06</td>\n      <td>T10 Determine necessity to stop indication</td>\n      <td>2011-10-18 07:06:20.547000+00:00</td>\n      <td>complete</td>\n      <td>2011-10-05 23:06:40.020000+00:00</td>\n      <td>Resource06</td>\n      <td>2011-12-01 00:06:40.010000+00:00</td>\n      <td>General</td>\n      <td>Group 5</td>\n      <td>case-9997</td>\n      <td>2011-12-01 00:06:40+00:00</td>\n      <td>Internet</td>\n      <td>2011-10-20 12:19:44.448000+00:00</td>\n    </tr>\n  </tbody>\n</table>\n<p>8577 rows × 15 columns</p>\n</div>"
     },
     "execution_count": 4,
     "metadata": {},
     "output_type": "execute_result"
    }
   ],
   "source": [
    "# eventlogURL = 'https://data.4tu.nl/collections/_/5065529/1'\n",
    "\n",
    "eventlog = pd.read_csv('./Data/CoseLog.csv')\n",
    "# The PRETSA algorithm requires certain column names to work properly. \n",
    "# These columns are hard coded in pretsa.py and can be changed if needed. \n",
    "eventlog.rename(columns={'time:timestamp':'Complete_Timestamp', 'concept:name':'Activity', 'case:concept:name':'Case_ID'}, inplace=True)\n",
    "# write the event log to file \n",
    "Dataset = 'CoSeLog'\n",
    "filePath = \"./Data/CoSeLog.csv\"\n",
    "eventlog.to_csv(filePath, index=False)\n",
    "print(\"Finished loading eventlog\")\n",
    "eventlog"
   ],
   "metadata": {
    "collapsed": false,
    "ExecuteTime": {
     "end_time": "2023-10-16T21:09:38.231497Z",
     "start_time": "2023-10-16T21:09:38.160360Z"
    }
   },
   "id": "3953a3c8a8fb7ec0"
  },
  {
   "cell_type": "markdown",
   "source": [
    "As seen, the event log contains data about execution of certain activities within the organization.\n"
   ],
   "metadata": {
    "collapsed": false
   },
   "id": "c4195a7df71cd90b"
  },
  {
   "cell_type": "markdown",
   "source": [
    "An important data for process mining is the duration of each activity "
   ],
   "metadata": {
    "collapsed": false
   },
   "id": "142770149a391201"
  },
  {
   "cell_type": "code",
   "execution_count": 5,
   "outputs": [
    {
     "name": "stdout",
     "output_type": "stream",
     "text": [
      "./Data/CoSeLog_duration.csv\r\n",
      "Duration notation added, Available at ./Data/CoSeLog_duration.csv\r\n"
     ]
    }
   ],
   "source": [
    "# Adding duration column to the event logs \n",
    "! python3 add_annotation_duration.py {Dataset} {filePath}\n",
    "modifiedEventlog = pd.read_csv(filePath.replace(\".csv\",'_duration.csv'), delimiter=';')"
   ],
   "metadata": {
    "collapsed": false,
    "ExecuteTime": {
     "end_time": "2023-10-16T21:09:39.983353Z",
     "start_time": "2023-10-16T21:09:39.668281Z"
    }
   },
   "id": "556e3d231d5bb091"
  },
  {
   "cell_type": "markdown",
   "source": [
    "# Running PRETSA"
   ],
   "metadata": {
    "collapsed": false
   },
   "id": "6446315f555bba3d"
  },
  {
   "cell_type": "code",
   "execution_count": 6,
   "outputs": [
    {
     "name": "stdout",
     "output_type": "stream",
     "text": [
      "Starting experiments\n",
      "Generated Distance Matrix\n",
      "Modified 268 cases for k=50 l=15 t=1\n",
      "Event log sanitization finished.\n"
     ]
    },
    {
     "data": {
      "text/plain": "                                        Activity     Case_ID  Duration  \\\n408                      Confirmation of receipt  case-10011  0.000000   \n1770           T02 Check confirmation of receipt  case-10011  0.778300   \n3171       T04 Determine confirmation of receipt  case-10011  0.861162   \n6127      T06 Determine necessity of stop advice  case-10011  0.000158   \n398                      Confirmation of receipt  case-10017  0.000000   \n...                                          ...         ...       ...   \n1750           T02 Check confirmation of receipt   case-9997  0.001116   \n3131       T04 Determine confirmation of receipt   case-9997  0.000273   \n4086  T05 Print and send confirmation of receipt   case-9997  0.000206   \n4925      T06 Determine necessity of stop advice   case-9997  0.000362   \n5702  T10 Determine necessity to stop indication   case-9997  0.000221   \n\n      Event_Nr  \n408          1  \n1770         2  \n3171         3  \n6127         4  \n398          1  \n...        ...  \n1750         2  \n3131         3  \n4086         4  \n4925         5  \n5702         6  \n\n[7702 rows x 4 columns]",
      "text/html": "<div>\n<style scoped>\n    .dataframe tbody tr th:only-of-type {\n        vertical-align: middle;\n    }\n\n    .dataframe tbody tr th {\n        vertical-align: top;\n    }\n\n    .dataframe thead th {\n        text-align: right;\n    }\n</style>\n<table border=\"1\" class=\"dataframe\">\n  <thead>\n    <tr style=\"text-align: right;\">\n      <th></th>\n      <th>Activity</th>\n      <th>Case_ID</th>\n      <th>Duration</th>\n      <th>Event_Nr</th>\n    </tr>\n  </thead>\n  <tbody>\n    <tr>\n      <th>408</th>\n      <td>Confirmation of receipt</td>\n      <td>case-10011</td>\n      <td>0.000000</td>\n      <td>1</td>\n    </tr>\n    <tr>\n      <th>1770</th>\n      <td>T02 Check confirmation of receipt</td>\n      <td>case-10011</td>\n      <td>0.778300</td>\n      <td>2</td>\n    </tr>\n    <tr>\n      <th>3171</th>\n      <td>T04 Determine confirmation of receipt</td>\n      <td>case-10011</td>\n      <td>0.861162</td>\n      <td>3</td>\n    </tr>\n    <tr>\n      <th>6127</th>\n      <td>T06 Determine necessity of stop advice</td>\n      <td>case-10011</td>\n      <td>0.000158</td>\n      <td>4</td>\n    </tr>\n    <tr>\n      <th>398</th>\n      <td>Confirmation of receipt</td>\n      <td>case-10017</td>\n      <td>0.000000</td>\n      <td>1</td>\n    </tr>\n    <tr>\n      <th>...</th>\n      <td>...</td>\n      <td>...</td>\n      <td>...</td>\n      <td>...</td>\n    </tr>\n    <tr>\n      <th>1750</th>\n      <td>T02 Check confirmation of receipt</td>\n      <td>case-9997</td>\n      <td>0.001116</td>\n      <td>2</td>\n    </tr>\n    <tr>\n      <th>3131</th>\n      <td>T04 Determine confirmation of receipt</td>\n      <td>case-9997</td>\n      <td>0.000273</td>\n      <td>3</td>\n    </tr>\n    <tr>\n      <th>4086</th>\n      <td>T05 Print and send confirmation of receipt</td>\n      <td>case-9997</td>\n      <td>0.000206</td>\n      <td>4</td>\n    </tr>\n    <tr>\n      <th>4925</th>\n      <td>T06 Determine necessity of stop advice</td>\n      <td>case-9997</td>\n      <td>0.000362</td>\n      <td>5</td>\n    </tr>\n    <tr>\n      <th>5702</th>\n      <td>T10 Determine necessity to stop indication</td>\n      <td>case-9997</td>\n      <td>0.000221</td>\n      <td>6</td>\n    </tr>\n  </tbody>\n</table>\n<p>7702 rows × 4 columns</p>\n</div>"
     },
     "execution_count": 6,
     "metadata": {},
     "output_type": "execute_result"
    }
   ],
   "source": [
    "# Initializing the privacy parameters \n",
    "k = 50\n",
    "t = 1\n",
    "l = 15\n",
    "# setting path for the sanitized eventlog \n",
    "targetFilePath = filePath.replace(\".csv\",\"_t%s_k%s_pretsa.csv\" % (t,k))\n",
    "print(\"Starting experiments\")\n",
    "# Instantiate the Pretsa class, creating the prefix tree as describe in the paper \n",
    "pretsa = sanatizeAlg.Pretsa(modifiedEventlog)\n",
    "# Apply the algorithm to the event log with the given privacy parameters \n",
    "cutOutCases = pretsa.runPretsa(int(k),float(t), int(l))\n",
    "print(\"Modified \" + str(len(cutOutCases[0])) + \" cases for k=\" + str(k) + \" l=\"+ str(l)+\" t=\"+str(t))\n",
    "# Generate the anonymized eventlog from the tree\n",
    "privateEventLog = pretsa.getPrivatisedEventLog(applydp=False)\n",
    "print(\"Event log sanitization finished.\")\n",
    "privateEventLog"
   ],
   "metadata": {
    "collapsed": false,
    "ExecuteTime": {
     "end_time": "2023-10-16T21:09:41.950232Z",
     "start_time": "2023-10-16T21:09:40.860588Z"
    }
   },
   "id": "ecf303b2d6554a5f"
  },
  {
   "cell_type": "markdown",
   "source": [
    "# Result\n",
    "To measure the effect of this feature on the event log, we compare the number of variants and cases before and after applying l-diversity with PRETSA."
   ],
   "metadata": {
    "collapsed": false
   },
   "id": "a9bd669f87a1d1a9"
  },
  {
   "cell_type": "code",
   "execution_count": 7,
   "outputs": [
    {
     "name": "stdout",
     "output_type": "stream",
     "text": [
      "Number of variant in the event log:  116\n",
      "Number of cases in the event log:  8577\n",
      "Number of variant in the sanitized event log:  14\n",
      "Number of cases in the sanitized event log:  7702\n"
     ]
    }
   ],
   "source": [
    "print(\"Number of variant in the event log: \",variantHelper.count_variants(modifiedEventlog))\n",
    "print(\"Number of cases in the event log: \", len(modifiedEventlog))\n",
    "print(\"Number of variant in the sanitized event log: \",variantHelper.count_variants(privateEventLog))\n",
    "print(\"Number of cases in the sanitized event log: \", len(privateEventLog))"
   ],
   "metadata": {
    "collapsed": false,
    "ExecuteTime": {
     "end_time": "2023-10-16T21:09:44.702831Z",
     "start_time": "2023-10-16T21:09:44.408819Z"
    }
   },
   "id": "870cfc4bd31051f2"
  },
  {
   "cell_type": "code",
   "execution_count": null,
   "outputs": [],
   "source": [],
   "metadata": {
    "collapsed": false
   },
   "id": "552daa7ee2bd884e"
  }
 ],
 "metadata": {
  "kernelspec": {
   "display_name": "Python 3",
   "language": "python",
   "name": "python3"
  },
  "language_info": {
   "codemirror_mode": {
    "name": "ipython",
    "version": 2
   },
   "file_extension": ".py",
   "mimetype": "text/x-python",
   "name": "python",
   "nbconvert_exporter": "python",
   "pygments_lexer": "ipython2",
   "version": "2.7.6"
  }
 },
 "nbformat": 4,
 "nbformat_minor": 5
}
