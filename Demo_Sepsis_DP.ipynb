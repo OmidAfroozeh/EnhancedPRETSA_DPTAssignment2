{
 "cells": [
  {
   "cell_type": "markdown",
   "source": [
    "# Demo Showcasing differential privacy \n",
    "Sepsis event log is used for this demo\n"
   ],
   "metadata": {
    "collapsed": false
   },
   "id": "c6a358f6e9891395"
  },
  {
   "cell_type": "code",
   "execution_count": 1,
   "outputs": [],
   "source": [
    "import pandas as pd\n",
    "import pretsa as sanatizeAlg\n",
    "import matplotlib.pyplot as plt"
   ],
   "metadata": {
    "collapsed": false,
    "ExecuteTime": {
     "end_time": "2023-10-16T19:41:24.327092Z",
     "start_time": "2023-10-16T19:41:22.631693Z"
    }
   },
   "id": "9ccfb3e1d094d28c"
  },
  {
   "cell_type": "markdown",
   "source": [
    "\n",
    "# Loading and preprocessing the Sepsis event log"
   ],
   "metadata": {
    "collapsed": false
   },
   "id": "d299dafd5e6403a0"
  },
  {
   "cell_type": "code",
   "execution_count": 7,
   "id": "3dd2cfdc1d47ac27",
   "metadata": {
    "collapsed": true,
    "ExecuteTime": {
     "end_time": "2023-10-16T21:08:32.051199Z",
     "start_time": "2023-10-16T21:08:31.964386Z"
    }
   },
   "outputs": [
    {
     "name": "stdout",
     "output_type": "stream",
     "text": [
      "Finished loading eventlog\n"
     ]
    }
   ],
   "source": [
    "# eventlogURL = 'https://data.4tu.nl/articles/dataset/Sepsis_Cases_-_Event_Log/12707639'\n",
    "\n",
    "eventlog = pd.read_csv('./Data/Sepsis.csv')\n",
    "\n",
    "# The PRETSA algorithm requires certain column names to work properly. \n",
    "# These columns are hard coded in pretsa.py and can be changed if needed. \n",
    "eventlog.rename(columns={'time:timestamp':'Complete_Timestamp', 'concept:name':'Activity', 'case:concept:name':'Case_ID'}, inplace=True)\n",
    "# write the event log to file \n",
    "Dataset = 'Sepsis'\n",
    "filePath = \"./Data/Sepsis.csv\"\n",
    "eventlog.to_csv(filePath, index=False)\n",
    "print(\"Finished loading eventlog\")"
   ]
  },
  {
   "cell_type": "code",
   "execution_count": 8,
   "outputs": [
    {
     "name": "stdout",
     "output_type": "stream",
     "text": [
      "./Data/Sepsis_duration.csv\r\n",
      "Duration notation added, Available at ./Data/Sepsis_duration.csv\r\n"
     ]
    },
    {
     "data": {
      "text/plain": "      InfectionSuspected org:group DiagnosticBlood DisfuncOrg  \\\n0                   True         A            True       True   \n1                    NaN         B             NaN        NaN   \n2                    NaN         B             NaN        NaN   \n3                    NaN         B             NaN        NaN   \n4                    NaN         C             NaN        NaN   \n...                  ...       ...             ...        ...   \n15209                NaN         B             NaN        NaN   \n15210                NaN         E             NaN        NaN   \n15211              False         L           False      False   \n15212                NaN         C             NaN        NaN   \n15213                NaN         L             NaN        NaN   \n\n      SIRSCritTachypnea Hypotensie SIRSCritHeartRate Infusion  \\\n0                  True       True              True     True   \n1                   NaN        NaN               NaN      NaN   \n2                   NaN        NaN               NaN      NaN   \n3                   NaN        NaN               NaN      NaN   \n4                   NaN        NaN               NaN      NaN   \n...                 ...        ...               ...      ...   \n15209               NaN        NaN               NaN      NaN   \n15210               NaN        NaN               NaN      NaN   \n15211             False      False             False    False   \n15212               NaN        NaN               NaN      NaN   \n15213               NaN        NaN               NaN      NaN   \n\n      DiagnosticArtAstrup          Activity  ...  lifecycle:transition  \\\n0                    True   ER Registration  ...              complete   \n1                     NaN        Leucocytes  ...              complete   \n2                     NaN               CRP  ...              complete   \n3                     NaN        LacticAcid  ...              complete   \n4                     NaN         ER Triage  ...              complete   \n...                   ...               ...  ...                   ...   \n15209                 NaN               CRP  ...              complete   \n15210                 NaN         Release A  ...              complete   \n15211               False   ER Registration  ...              complete   \n15212                 NaN         ER Triage  ...              complete   \n15213                 NaN  ER Sepsis Triage  ...              complete   \n\n      Diagnose Hypoxie DiagnosticUrinarySediment DiagnosticECG Case_ID  \\\n0            A   False                      True          True       A   \n1          NaN     NaN                       NaN           NaN       A   \n2          NaN     NaN                       NaN           NaN       A   \n3          NaN     NaN                       NaN           NaN       A   \n4          NaN     NaN                       NaN           NaN       A   \n...        ...     ...                       ...           ...     ...   \n15209      NaN     NaN                       NaN           NaN     KNA   \n15210      NaN     NaN                       NaN           NaN     KNA   \n15211      NaN   False                     False         False     LNA   \n15212      NaN     NaN                       NaN           NaN     LNA   \n15213      NaN     NaN                       NaN           NaN     LNA   \n\n      Leucocytes   CRP LacticAcid  Duration  \n0            NaN   NaN        NaN  0.000000  \n1            9.6   NaN        NaN  0.007859  \n2            NaN  21.0        NaN  0.000000  \n3            NaN   NaN        2.2  0.000000  \n4            NaN   NaN        NaN  0.004595  \n...          ...   ...        ...       ...  \n15209        NaN  66.0        NaN  0.000000  \n15210        NaN   NaN        NaN  0.416667  \n15211        NaN   NaN        NaN  0.000000  \n15212        NaN   NaN        NaN  0.002674  \n15213        NaN   NaN        NaN  0.000231  \n\n[15214 rows x 33 columns]",
      "text/html": "<div>\n<style scoped>\n    .dataframe tbody tr th:only-of-type {\n        vertical-align: middle;\n    }\n\n    .dataframe tbody tr th {\n        vertical-align: top;\n    }\n\n    .dataframe thead th {\n        text-align: right;\n    }\n</style>\n<table border=\"1\" class=\"dataframe\">\n  <thead>\n    <tr style=\"text-align: right;\">\n      <th></th>\n      <th>InfectionSuspected</th>\n      <th>org:group</th>\n      <th>DiagnosticBlood</th>\n      <th>DisfuncOrg</th>\n      <th>SIRSCritTachypnea</th>\n      <th>Hypotensie</th>\n      <th>SIRSCritHeartRate</th>\n      <th>Infusion</th>\n      <th>DiagnosticArtAstrup</th>\n      <th>Activity</th>\n      <th>...</th>\n      <th>lifecycle:transition</th>\n      <th>Diagnose</th>\n      <th>Hypoxie</th>\n      <th>DiagnosticUrinarySediment</th>\n      <th>DiagnosticECG</th>\n      <th>Case_ID</th>\n      <th>Leucocytes</th>\n      <th>CRP</th>\n      <th>LacticAcid</th>\n      <th>Duration</th>\n    </tr>\n  </thead>\n  <tbody>\n    <tr>\n      <th>0</th>\n      <td>True</td>\n      <td>A</td>\n      <td>True</td>\n      <td>True</td>\n      <td>True</td>\n      <td>True</td>\n      <td>True</td>\n      <td>True</td>\n      <td>True</td>\n      <td>ER Registration</td>\n      <td>...</td>\n      <td>complete</td>\n      <td>A</td>\n      <td>False</td>\n      <td>True</td>\n      <td>True</td>\n      <td>A</td>\n      <td>NaN</td>\n      <td>NaN</td>\n      <td>NaN</td>\n      <td>0.000000</td>\n    </tr>\n    <tr>\n      <th>1</th>\n      <td>NaN</td>\n      <td>B</td>\n      <td>NaN</td>\n      <td>NaN</td>\n      <td>NaN</td>\n      <td>NaN</td>\n      <td>NaN</td>\n      <td>NaN</td>\n      <td>NaN</td>\n      <td>Leucocytes</td>\n      <td>...</td>\n      <td>complete</td>\n      <td>NaN</td>\n      <td>NaN</td>\n      <td>NaN</td>\n      <td>NaN</td>\n      <td>A</td>\n      <td>9.6</td>\n      <td>NaN</td>\n      <td>NaN</td>\n      <td>0.007859</td>\n    </tr>\n    <tr>\n      <th>2</th>\n      <td>NaN</td>\n      <td>B</td>\n      <td>NaN</td>\n      <td>NaN</td>\n      <td>NaN</td>\n      <td>NaN</td>\n      <td>NaN</td>\n      <td>NaN</td>\n      <td>NaN</td>\n      <td>CRP</td>\n      <td>...</td>\n      <td>complete</td>\n      <td>NaN</td>\n      <td>NaN</td>\n      <td>NaN</td>\n      <td>NaN</td>\n      <td>A</td>\n      <td>NaN</td>\n      <td>21.0</td>\n      <td>NaN</td>\n      <td>0.000000</td>\n    </tr>\n    <tr>\n      <th>3</th>\n      <td>NaN</td>\n      <td>B</td>\n      <td>NaN</td>\n      <td>NaN</td>\n      <td>NaN</td>\n      <td>NaN</td>\n      <td>NaN</td>\n      <td>NaN</td>\n      <td>NaN</td>\n      <td>LacticAcid</td>\n      <td>...</td>\n      <td>complete</td>\n      <td>NaN</td>\n      <td>NaN</td>\n      <td>NaN</td>\n      <td>NaN</td>\n      <td>A</td>\n      <td>NaN</td>\n      <td>NaN</td>\n      <td>2.2</td>\n      <td>0.000000</td>\n    </tr>\n    <tr>\n      <th>4</th>\n      <td>NaN</td>\n      <td>C</td>\n      <td>NaN</td>\n      <td>NaN</td>\n      <td>NaN</td>\n      <td>NaN</td>\n      <td>NaN</td>\n      <td>NaN</td>\n      <td>NaN</td>\n      <td>ER Triage</td>\n      <td>...</td>\n      <td>complete</td>\n      <td>NaN</td>\n      <td>NaN</td>\n      <td>NaN</td>\n      <td>NaN</td>\n      <td>A</td>\n      <td>NaN</td>\n      <td>NaN</td>\n      <td>NaN</td>\n      <td>0.004595</td>\n    </tr>\n    <tr>\n      <th>...</th>\n      <td>...</td>\n      <td>...</td>\n      <td>...</td>\n      <td>...</td>\n      <td>...</td>\n      <td>...</td>\n      <td>...</td>\n      <td>...</td>\n      <td>...</td>\n      <td>...</td>\n      <td>...</td>\n      <td>...</td>\n      <td>...</td>\n      <td>...</td>\n      <td>...</td>\n      <td>...</td>\n      <td>...</td>\n      <td>...</td>\n      <td>...</td>\n      <td>...</td>\n      <td>...</td>\n    </tr>\n    <tr>\n      <th>15209</th>\n      <td>NaN</td>\n      <td>B</td>\n      <td>NaN</td>\n      <td>NaN</td>\n      <td>NaN</td>\n      <td>NaN</td>\n      <td>NaN</td>\n      <td>NaN</td>\n      <td>NaN</td>\n      <td>CRP</td>\n      <td>...</td>\n      <td>complete</td>\n      <td>NaN</td>\n      <td>NaN</td>\n      <td>NaN</td>\n      <td>NaN</td>\n      <td>KNA</td>\n      <td>NaN</td>\n      <td>66.0</td>\n      <td>NaN</td>\n      <td>0.000000</td>\n    </tr>\n    <tr>\n      <th>15210</th>\n      <td>NaN</td>\n      <td>E</td>\n      <td>NaN</td>\n      <td>NaN</td>\n      <td>NaN</td>\n      <td>NaN</td>\n      <td>NaN</td>\n      <td>NaN</td>\n      <td>NaN</td>\n      <td>Release A</td>\n      <td>...</td>\n      <td>complete</td>\n      <td>NaN</td>\n      <td>NaN</td>\n      <td>NaN</td>\n      <td>NaN</td>\n      <td>KNA</td>\n      <td>NaN</td>\n      <td>NaN</td>\n      <td>NaN</td>\n      <td>0.416667</td>\n    </tr>\n    <tr>\n      <th>15211</th>\n      <td>False</td>\n      <td>L</td>\n      <td>False</td>\n      <td>False</td>\n      <td>False</td>\n      <td>False</td>\n      <td>False</td>\n      <td>False</td>\n      <td>False</td>\n      <td>ER Registration</td>\n      <td>...</td>\n      <td>complete</td>\n      <td>NaN</td>\n      <td>False</td>\n      <td>False</td>\n      <td>False</td>\n      <td>LNA</td>\n      <td>NaN</td>\n      <td>NaN</td>\n      <td>NaN</td>\n      <td>0.000000</td>\n    </tr>\n    <tr>\n      <th>15212</th>\n      <td>NaN</td>\n      <td>C</td>\n      <td>NaN</td>\n      <td>NaN</td>\n      <td>NaN</td>\n      <td>NaN</td>\n      <td>NaN</td>\n      <td>NaN</td>\n      <td>NaN</td>\n      <td>ER Triage</td>\n      <td>...</td>\n      <td>complete</td>\n      <td>NaN</td>\n      <td>NaN</td>\n      <td>NaN</td>\n      <td>NaN</td>\n      <td>LNA</td>\n      <td>NaN</td>\n      <td>NaN</td>\n      <td>NaN</td>\n      <td>0.002674</td>\n    </tr>\n    <tr>\n      <th>15213</th>\n      <td>NaN</td>\n      <td>L</td>\n      <td>NaN</td>\n      <td>NaN</td>\n      <td>NaN</td>\n      <td>NaN</td>\n      <td>NaN</td>\n      <td>NaN</td>\n      <td>NaN</td>\n      <td>ER Sepsis Triage</td>\n      <td>...</td>\n      <td>complete</td>\n      <td>NaN</td>\n      <td>NaN</td>\n      <td>NaN</td>\n      <td>NaN</td>\n      <td>LNA</td>\n      <td>NaN</td>\n      <td>NaN</td>\n      <td>NaN</td>\n      <td>0.000231</td>\n    </tr>\n  </tbody>\n</table>\n<p>15214 rows × 33 columns</p>\n</div>"
     },
     "execution_count": 8,
     "metadata": {},
     "output_type": "execute_result"
    }
   ],
   "source": [
    "# Adding duration column to the event logs \n",
    "! python3 add_annotation_duration.py {Dataset} {filePath}\n",
    "modifiedEventlog = pd.read_csv(filePath.replace(\".csv\",'_duration.csv'), delimiter=';')\n",
    "modifiedEventlog"
   ],
   "metadata": {
    "collapsed": false,
    "ExecuteTime": {
     "end_time": "2023-10-16T21:08:34.540124Z",
     "start_time": "2023-10-16T21:08:34.119438Z"
    }
   },
   "id": "initial_id"
  },
  {
   "cell_type": "markdown",
   "source": [
    "# Running PRETSA \n"
   ],
   "metadata": {
    "collapsed": false
   },
   "id": "4f49bb0dc12d3443"
  },
  {
   "cell_type": "code",
   "execution_count": 9,
   "outputs": [
    {
     "name": "stdout",
     "output_type": "stream",
     "text": [
      "Starting experiments\n",
      "Generated Distance Matrix\n",
      "Modified 852 cases for k=10\n",
      "Event log sanitization finished.\n"
     ]
    }
   ],
   "source": [
    "# Initializing the privacy parameters \n",
    "k = 10\n",
    "t = 0.6\n",
    "l = 1\n",
    "# setting path for the sanitized eventlog \n",
    "targetFilePath = filePath.replace(\".csv\",\"_t%s_k%s_pretsa.csv\" % (t,k))\n",
    "print(\"Starting experiments\")\n",
    "# Instantiate the Pretsa class, creating the prefix tree as describe in the paper \n",
    "pretsa = sanatizeAlg.Pretsa(modifiedEventlog)\n",
    "# Apply the algorithm to the event log with the given privacy parameters \n",
    "cutOutCases = pretsa.runPretsa(int(k),float(t), int(l))\n",
    "print(\"Modified \" + str(len(cutOutCases[0])) + \" cases for k=\" + str(k))\n",
    "# Generate the anonymized eventlog from the tree\n",
    "privateEventLog_noDP = pretsa.getPrivatisedEventLog(applydp=False)\n",
    "print(\"Event log sanitization finished.\")"
   ],
   "metadata": {
    "collapsed": false,
    "ExecuteTime": {
     "end_time": "2023-10-16T21:09:36.977381Z",
     "start_time": "2023-10-16T21:08:36.147622Z"
    }
   },
   "id": "c5764f084669e02b"
  },
  {
   "cell_type": "markdown",
   "source": [
    "# Testing the Differential privacy feature\n",
    "##### By providing multiple epsilon values to the algorithm, we measure the mean of each query's annotation. Moreover, comparing it against the original solution, we showcase the effect of different epsilons. "
   ],
   "metadata": {
    "collapsed": false
   },
   "id": "63afcba414db7b1d"
  },
  {
   "cell_type": "code",
   "execution_count": 5,
   "outputs": [
    {
     "name": "stdout",
     "output_type": "stream",
     "text": [
      "Differential privacy mechanism ready\n",
      "Differential privacy applied to event log epsilon=0.05\n",
      "Differential privacy mechanism ready\n",
      "Differential privacy applied to event log epsilon=0.1\n",
      "Differential privacy mechanism ready\n",
      "Differential privacy applied to event log epsilon=0.3\n",
      "Differential privacy mechanism ready\n",
      "Differential privacy applied to event log epsilon=0.5\n",
      "Differential privacy mechanism ready\n",
      "Differential privacy applied to event log epsilon=1\n",
      "Differential privacy mechanism ready\n",
      "Differential privacy applied to event log epsilon=2\n",
      "Differential privacy mechanism ready\n",
      "Differential privacy applied to event log epsilon=3\n",
      "Differential privacy mechanism ready\n",
      "Differential privacy applied to event log epsilon=5\n",
      "Differential privacy mechanism ready\n",
      "Differential privacy applied to event log epsilon=10\n",
      "Differential privacy mechanism ready\n",
      "Differential privacy applied to event log epsilon=20\n"
     ]
    }
   ],
   "source": [
    "# Initialize a list of budget privacy values\n",
    "epsilonlist = [0.05, 0.1, 0.3, 0.5, 1, 2, 3, 5, 10, 20]\n",
    "privateEventlogs_DP = []\n",
    "# generate different queries based on the epsilon list\n",
    "for i, epsilon in enumerate(epsilonlist):\n",
    "    privateEventlogs_DP.append(pretsa.getPrivatisedEventLog(applydp=True, epsilon=epsilonlist[i]))\n",
    "# choosing one activity in the event log to measure the amount of noise added\n",
    "testActivity = 'CRP'\n",
    "\n",
    "noDP = privateEventLog_noDP.loc[privateEventLog_noDP['Activity'] == testActivity]['Duration']\n",
    "averageNoiseAdded = []\n",
    "# calculate the average noise added to the values of the CRP activity by subtracting it from the query with no differential privacy\n",
    "for pel in privateEventlogs_DP:\n",
    "    averageNoiseAdded.append((pel[pel['Activity'] == testActivity]['Duration'] - noDP).mean())"
   ],
   "metadata": {
    "collapsed": false,
    "ExecuteTime": {
     "end_time": "2023-10-16T19:43:42.019009Z",
     "start_time": "2023-10-16T19:43:27.168738Z"
    }
   },
   "id": "1e4b822cabab9f29"
  },
  {
   "cell_type": "code",
   "execution_count": 10,
   "outputs": [
    {
     "data": {
      "text/plain": "<Figure size 640x480 with 1 Axes>",
      "image/png": "[encoded data removed]"
     },
     "metadata": {},
     "output_type": "display_data"
    }
   ],
   "source": [
    "# Draw the plot showcasing the average noise added,\n",
    "# Note: for this verification of results to be more accurate, running the query multiple times for each epsilon value and using the mean of them is a better approach.\n",
    "\n",
    "plt.plot(epsilonlist, averageNoiseAdded, marker='o', label='Average Noise Added vs. Epsilon')\n",
    "plt.xlabel('Epsilon')\n",
    "plt.ylabel('Average Noise Added')\n",
    "plt.title('Effect of Epsilon amount noise added')\n",
    "plt.legend()\n",
    "plt.grid(True)\n",
    "plt.show()\n"
   ],
   "metadata": {
    "collapsed": false,
    "ExecuteTime": {
     "end_time": "2023-10-16T21:17:07.609172Z",
     "start_time": "2023-10-16T21:17:07.477368Z"
    }
   },
   "id": "e04a87f9e8a870a1"
  },
  {
   "cell_type": "markdown",
   "source": [
    "As seen, with increasing the budget privacy, the amount of noise added to the sensitive attribute is decreased. Therefore, the budget privacy provided determines the trade off between utility and security. "
   ],
   "metadata": {
    "collapsed": false
   },
   "id": "ecc092d40c408740"
  },
  {
   "cell_type": "code",
   "execution_count": null,
   "outputs": [],
   "source": [],
   "metadata": {
    "collapsed": false
   },
   "id": "7b768fde89efeabf"
  }
 ],
 "metadata": {
  "kernelspec": {
   "display_name": "Python 3",
   "language": "python",
   "name": "python3"
  },
  "language_info": {
   "codemirror_mode": {
    "name": "ipython",
    "version": 2
   },
   "file_extension": ".py",
   "mimetype": "text/x-python",
   "name": "python",
   "nbconvert_exporter": "python",
   "pygments_lexer": "ipython2",
   "version": "2.7.6"
  }
 },
 "nbformat": 4,
 "nbformat_minor": 5
}
